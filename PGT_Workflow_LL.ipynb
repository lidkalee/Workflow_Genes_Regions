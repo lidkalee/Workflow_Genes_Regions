{
 "cells": [
  {
   "cell_type": "markdown",
   "metadata": {},
   "source": [
    "# Workflow of preparation of Sequencing data and usage of PyGenomeTrack as a tool to visualize genome regions\n",
    "\n",
    "***\n",
    "> The workflow created by Lidia Lipinska\n",
    "\n",
    "***\n",
    ">This notebook contains a procedure to prepare the sequencing data and to create the region plots. \n",
    "The workflow describes the tools to convert the files into the formats: BED6, BED12, BAM, and BIGWIG. Additionally, we formed the helper functions to create .ini files from scratch.\n",
    "\n",
    "> The [PyGenomeTrack](https://github.com/deeptools/pyGenomeTracks) aims to produce high-quality genome browser tracks.\n",
    "\n",
    "> The main steps:\n",
    "    0. Installation of requirements.\n",
    "    1. Prepare your .gff3 files.\n",
    "    2. Convert .gff3 into .bed6.\n",
    "    3. Convert .gff3 into .bed12.\n",
    "    4. Make .bigwig file from BAM/SAM format.\n",
    "    5. Prepare the .ini files - from scrach or by edition of the example file.\n",
    "    6. PyGenomeTracks - make tracks file.\n",
    "    7. PyGenomeTracks - make region plot\n",
    "\n",
    "> __HINT: Exclamation mark (!) at the beginning of line allows to use bash commands from the jupyter notebook.__\n",
    "***"
   ]
  },
  {
   "cell_type": "markdown",
   "metadata": {},
   "source": [
    "***\n",
    "### Types of file formats used in this Notebook:\n",
    "* [GFF3](https://www.ensembl.org/info/website/upload/gff3.html) - General Feature Format Version 3\n",
    "* [BED6/BED12](https://genome.ucsc.edu/FAQ/FAQformat.html#format1) - Browser Extensible Data\n",
    "* The [BIGWIG](https://genome.ucsc.edu/goldenPath/help/bigWig.html) format is useful for dense, continuous data that will be displayed in the Genome Browser as a graph.\n",
    "* The __INI__ file format is an informal standard for configuration files.\n",
    "* [SAM](https://samtools.github.io/hts-specs/SAMv1.pdf) - Sequence Alignment Map\n",
    "* [BAM](https://genome.ucsc.edu/goldenPath/help/bam.html) is the compressed binary version of the Sequence Alignment/Map (SAM) format, a compact and index-able representation of nucleotide sequence alignment.\n",
    "* [genePred](http://genome.ucsc.edu/FAQ/FAQformat#format9) is a table format commonly used for gene prediction tracks in the Genome Browser.\n",
    "***"
   ]
  },
  {
   "cell_type": "markdown",
   "metadata": {},
   "source": [
    "## 0. Installation of requirements"
   ]
  },
  {
   "cell_type": "markdown",
   "metadata": {},
   "source": [
    "### A) Installation from file 'requirements.txt'\n",
    "> __HINT:__ We recommend to install the requirements in a virtual environment to avoid inconsistencies in the local environment."
   ]
  },
  {
   "cell_type": "code",
   "execution_count": null,
   "metadata": {},
   "outputs": [],
   "source": [
    "!pip install -r requirements.txt "
   ]
  },
  {
   "cell_type": "markdown",
   "metadata": {},
   "source": [
    "### B)  Alternatively: Installation step by step"
   ]
  },
  {
   "cell_type": "markdown",
   "metadata": {},
   "source": [
    "### Installation of PyGenomeTrack\n",
    "\n",
    "pyGenomeTracks works with python 2.7 and python 3.6. \n",
    "\n",
    "1. Install PyGenomeTrack with Anaconda:\n",
    "\n",
    "        conda install -c bioconda pygenometracks \n",
    "    \n",
    "2. Also, pyGenomeTracks can be installed using pip:\n",
    "\n",
    "        pip install pyGenomeTracks\n",
    "    \n",
    "3. Installation the newest version:\n",
    "\n",
    "        pip install  git+https://github.com/maxplanck-ie/pyGenomeTracks.git"
   ]
  },
  {
   "cell_type": "code",
   "execution_count": null,
   "metadata": {},
   "outputs": [],
   "source": [
    "# Installation of PyGenomeTrack with Anaconda\n",
    "!conda install -c bioconda pygenometracks "
   ]
  },
  {
   "cell_type": "code",
   "execution_count": null,
   "metadata": {},
   "outputs": [],
   "source": [
    "# Installation of gff3togenepred\n",
    "!conda install ucsc-gff3togenepred"
   ]
  },
  {
   "cell_type": "code",
   "execution_count": null,
   "metadata": {},
   "outputs": [],
   "source": [
    "# Update of gff3togenepred\n",
    "!conda update ucsc-gff3togenepred"
   ]
  },
  {
   "cell_type": "code",
   "execution_count": null,
   "metadata": {},
   "outputs": [],
   "source": [
    "# Installation of GenePredToBed\n",
    "!conda install -c bioconda ucsc-genepredtobed"
   ]
  },
  {
   "cell_type": "code",
   "execution_count": null,
   "metadata": {},
   "outputs": [],
   "source": [
    "# Installation of piBigWig\n",
    "!pip install pyBigWig # with pip install\n",
    "\n",
    "!conda install pybigwig -c bioconda # or with bioconda"
   ]
  },
  {
   "cell_type": "markdown",
   "metadata": {},
   "source": [
    "***\n",
    "## 1. Prepare your GFF3 and SAM/BAM files\n",
    "\n",
    "> Please look carefully at your GFF3 file. Delete incorrect lines in your file.\n",
    "***"
   ]
  },
  {
   "cell_type": "markdown",
   "metadata": {},
   "source": [
    "***\n",
    "## 2. Convert .gff3 into .bed6\n",
    "    sortBed -i <gff3_file.gff3> | gff2bed > <bed_file.bed>\n",
    "***"
   ]
  },
  {
   "cell_type": "code",
   "execution_count": 71,
   "metadata": {},
   "outputs": [],
   "source": [
    "# Example\n",
    "!sortBed -i newSP.gff3 | gff2bed > file_bed6.bed"
   ]
  },
  {
   "cell_type": "code",
   "execution_count": 82,
   "metadata": {},
   "outputs": [],
   "source": [
    "# Sort Bed6:\n",
    "!sort -k 1,1 -k2,2n file_bed6_sor1.bed > file_bed6_sorted.bed"
   ]
  },
  {
   "cell_type": "code",
   "execution_count": 46,
   "metadata": {},
   "outputs": [],
   "source": [
    "# Sort Bed12:\n",
    "!sort -k 1,1 -k2,2n file_bed12.bed > file_bed12_sorted.bed"
   ]
  },
  {
   "cell_type": "markdown",
   "metadata": {},
   "source": [
    "***\n",
    "## 3. Convert .gff3 into .bed12\n",
    "    gff3ToGenePred infile.gff3 temp.genePre\n",
    "    \n",
    "> __HINT:__ Possible error 'CDS feature must have phase'. \n",
    "Phase is a parameter in column 8 of gff3 (only for features CDS).\n",
    "Add phases in the gff3 file according to the notes below.\n",
    "You can open your GFF3 file and add 0 in column 8 in the lines with CDS, e.g. using Regular Expressions\n",
    "In case of another type of error, e.g. \"Error: invalid genePred created: SPAC17G8.01c.1 I:2341250-2343947\", look carefully at your gff3 and check if your exons are overlapping.\n",
    "\n",
    "\n",
    "> \"Phase specifies how many nucleotides must be removed from the beginning of a CDS to reach a complete codon \n",
    "(0, 1 or 2). If phase is missing, the CDS cannot be translated without making dangerous assumptions about \n",
    "the data. Specifically, you have to assume that the first CDS has a phase of 0. For poorly assembled genomes, \n",
    "this may not by the case.\n",
    "Even if the assumption always holds, a CDS without phase data can be hard to work with since you cannot \n",
    "translate an individual CDS without considering the other members of the model.\n",
    "According to the GFF specification, phase information is required for CDS entries and is stored \n",
    "in the 8th column.\" (Source: https://support.bioconductor.org/p/101245/ available: 2019.04.03)\n",
    "***"
   ]
  },
  {
   "cell_type": "code",
   "execution_count": 6,
   "metadata": {},
   "outputs": [],
   "source": [
    "# Sort the GFF3 file by column 1 (chromosomes) and 4 (start positions) as:\n",
    "!sort -k1,1 -k4,4n newSP_phase.gff3 > newSP_phase_sorted.gff3"
   ]
  },
  {
   "cell_type": "code",
   "execution_count": null,
   "metadata": {},
   "outputs": [],
   "source": [
    "# Creating the temporary file .genePred from gff3\n",
    "!gff3ToGenePred newSP_phase_sorted.gff3 temp.genePred \n",
    "\n",
    "#\"newSP_phase.gff3\" is a gff3 file with phases in column 8."
   ]
  },
  {
   "cell_type": "code",
   "execution_count": 42,
   "metadata": {},
   "outputs": [],
   "source": [
    "# Creating BED file from temporary file\n",
    "!genePredToBed temp.genePred file_bed12.bed"
   ]
  },
  {
   "cell_type": "markdown",
   "metadata": {},
   "source": [
    "***\n",
    "## 4. Make .bigwig file"
   ]
  },
  {
   "cell_type": "markdown",
   "metadata": {},
   "source": [
    "### A) Conversion of SAM format to BAM format (if your data are in SAM)\n",
    "        samtools view -S <sam_file.sam> -b -o <bam_file.bam>"
   ]
  },
  {
   "cell_type": "code",
   "execution_count": null,
   "metadata": {},
   "outputs": [],
   "source": [
    "#Convert SAM to BAM\n",
    "!samtools view -S short_C1_1.sam -b -o short_C1_1.bam"
   ]
  },
  {
   "cell_type": "markdown",
   "metadata": {},
   "source": [
    "### B) Conversion of BAM format to BIGWIG using [bamCoverage](https://deeptools.readthedocs.io/en/develop/content/tools/bamCoverage.html#Required%20arguments) from deeptools\n",
    "\n",
    "> Steps:\n",
    "    1. Sort BAM file\n",
    "        samtools sort -n <bam_file.bam>\n",
    "    2. Add index to bam file\n",
    "        samtools index <bam_file.bam>\n",
    "    3. Convert indexed bam to bigwig\n",
    "        bamCoverage -b <bamfile.bam> -o <bibwigfile.bw>\n",
    "***"
   ]
  },
  {
   "cell_type": "markdown",
   "metadata": {},
   "source": [
    "### Sort and add index to BAM file - it is a necessary step"
   ]
  },
  {
   "cell_type": "code",
   "execution_count": null,
   "metadata": {},
   "outputs": [],
   "source": [
    "# Sort the BAM file \n",
    "!samtools sort -n C1_1.bam"
   ]
  },
  {
   "cell_type": "code",
   "execution_count": null,
   "metadata": {},
   "outputs": [],
   "source": [
    "# Add index to BAM file\n",
    "!samtools index -b C1_1.bam"
   ]
  },
  {
   "cell_type": "markdown",
   "metadata": {},
   "source": [
    "### Make BIGWIG from indexed BAM"
   ]
  },
  {
   "cell_type": "code",
   "execution_count": null,
   "metadata": {},
   "outputs": [],
   "source": [
    "# Convert indexed bam to bigwig\n",
    "!bamCoverage -b short_C1_1.bam -o bigwig.bw"
   ]
  },
  {
   "cell_type": "markdown",
   "metadata": {},
   "source": [
    "### Short look at the bigwig file"
   ]
  },
  {
   "cell_type": "code",
   "execution_count": null,
   "metadata": {},
   "outputs": [],
   "source": [
    "import pyBigWig\n",
    "\n",
    "bw = pyBigWig.open(\"bigwig.bw\")\n",
    "bw.header()"
   ]
  },
  {
   "cell_type": "markdown",
   "metadata": {},
   "source": [
    "***\n",
    "## 5. Preparing the INI file"
   ]
  },
  {
   "cell_type": "markdown",
   "metadata": {},
   "source": [
    "### A) Preparing the INI file by editing an existing file\n",
    ">You can prepare your INI file from scratch (protocol below). However, we strongly recommend to use previously prepared INI files, and edit them (using helper functions or in a text editor).\n",
    "\n",
    ">The examples of color names are [here](https://www.w3schools.com/colors/colors_picker.asp)."
   ]
  },
  {
   "cell_type": "markdown",
   "metadata": {},
   "source": [
    "### B) Preparing of INI file from scratch -- using helper functions in ini_edit.py\n",
    "> The helper functions allow to prepare a new ini file or to add some dictionary, section or file to existing ini file.\n",
    "\n",
    "> All prepared helper functions are saved in file __ini_edit.py__. You can import the content of the file as below, and use all of the function in Python.\n",
    "\n",
    "> __List of helper functions in ini_edit.py__: \n",
    "    * czytaj_konfig(nazwa_pliku)\n",
    "    * zapisz_ini_ze_slownik(slownik, nazwa_pliku)\n",
    "    * add_ini_slownik(slownik, nazwa_pliku, nowa_nazwa=None)\n",
    "    * dopisz_do_konfig(konfig, slownik)\n",
    "\n",
    ">#### Use belowed commend to look at the description of one of the helper functions in ini_edit.py :\n",
    "    ?? ini_edit.add_ini_slownik  \n",
    "***"
   ]
  },
  {
   "cell_type": "code",
   "execution_count": null,
   "metadata": {},
   "outputs": [],
   "source": [
    "# Import ini_edit.py where are all helper functions\n",
    "import ini_edit"
   ]
  },
  {
   "cell_type": "code",
   "execution_count": 10,
   "metadata": {},
   "outputs": [],
   "source": [
    "# To look at the functions in \n",
    "?? ini_edit.add_ini_slownik"
   ]
  },
  {
   "cell_type": "markdown",
   "metadata": {},
   "source": [
    "### The helper functions are also here: (PS. Some names are in Polish - I will change it soon)"
   ]
  },
  {
   "cell_type": "code",
   "execution_count": 11,
   "metadata": {},
   "outputs": [],
   "source": [
    "\"\"\"\n",
    "the 'helper functions' for reading and editing the INI files\n",
    "\n",
    "słownik do ini ma zawsze formę:\n",
    "\n",
    "slownik[nazwa_sekcji][nazwa_elementu]= wartosc_elementu\n",
    "\n",
    "i to się zamieni w pliku ini na:\n",
    "\n",
    "[nazwa sekcji]\n",
    "nazwa_elementu = wartosc_elementu\n",
    "\n",
    "\"\"\"\n",
    "import configparser\n",
    "\n",
    "\n",
    "def czytaj_konfig(nazwa_pliku):\n",
    "    pass\n",
    "\n",
    "\n",
    "def zapisz_ini_ze_slownik(slownik, nazwa_pliku):\n",
    "    \"\"\"zapisuje konfigurację ini na podstawie słownika\n",
    "\n",
    "    Args:\n",
    "        slownik (dict): slownik do zapisania\n",
    "        nazwa_pliku (str): nazwa/ sciezka do pliku\n",
    "\n",
    "    Slownik musi mieć formę, że dla każdego klucza,\n",
    "    oznaczającego sekcję\n",
    "    jest kolejny słownik zawierający poszczególne\n",
    "    elementy\n",
    "    \n",
    "    Examples:\n",
    "        >>> slownik={\"UW\":{\"Faculty_of_Biology\":\"IGIB\"}}\n",
    "        >>> slownik[\"x-axis\"]={\"fontsize\":20}\n",
    "        >>> slownik[\"x-axis\"][\"where\"]=\"top\"\n",
    "        >>> zapisz_konfig(slownik,\"nowa_li_slownik.ini\")\n",
    "        plik nowa_li_slownik.ini zapisany\n",
    "\n",
    "    \"\"\"\n",
    "    config = configparser.RawConfigParser()\n",
    "    config.read_dict(slownik)\n",
    "    config.write(open(nazwa_pliku, \"w\"))\n",
    "    print(\"plik {} zapisany\".format(nazwa_pliku))\n",
    "\n",
    "\n",
    "def add_ini_slownik(slownik, nazwa_pliku, nowa_nazwa=None):\n",
    "    \"\"\" Funkcja do pliku ini dopisuje dane ze słownika\n",
    "    \n",
    "    Args:\n",
    "        slownik (dict): slownik z sekcjami i elementami\n",
    "        nazwa_pliku (path): ścieżka do pliku ini który jest bazą do zmian\n",
    "        nowa_nazwa (path): ścieżka do pliku ini który będzie wynikowym plikiem, plik opcjonalny (możemy nadpisać nazwa_pliku)\n",
    "    \n",
    "    Examples:\n",
    "        >>> slownik_z_nowymi_rzeczami={\"UW\":{\"Faculty_of_Biology\":\"IGIB\"}}\n",
    "        >>> add_ini_slownik(slownik_z_nowymi_rzeczami,\"testtt.ini\",\"nowy_nowy.ini\")\n",
    "    \"\"\"\n",
    "    config = configparser.RawConfigParser()\n",
    "    config.read(nazwa_pliku)\n",
    "    dopisz_do_konfig(config, slownik)\n",
    "    if nowa_nazwa:\n",
    "        nazwa_pliku=nowa_nazwa\n",
    "    \n",
    "    config.write(open(nazwa_pliku,\"w\"))\n",
    "    print(\"zapisano pod nazwą\", nazwa_pliku)\n",
    "\n",
    "\n",
    "def dopisz_do_konfig(konfig, slownik):\n",
    "    \"\"\"do obiektu konfig dopisuje (w miejscu) elementy ze slownika\n",
    "    Args:\n",
    "        konfig (configparser.RawConfigParser): obiekt zawierajacy konfigurację\n",
    "        slownik (dict): slownik z sekcjami i elementami\n",
    "        \n",
    "    \"\"\" \n",
    "    \n",
    "    for nazwa_sekcji,slownik_sekcji in slownik.items():\n",
    "        \n",
    "        try:\n",
    "            konfig.add_section(nazwa_sekcji)\n",
    "        except :\n",
    "            print(\"sekcja {} już istniała\".format(nazwa_sekcji))\n",
    "        \n",
    "        for nazwa_el,wartosc_el in slownik_sekcji.items():\n",
    "            konfig.set(nazwa_sekcji,nazwa_el,wartosc_el)\n",
    "    "
   ]
  },
  {
   "cell_type": "markdown",
   "metadata": {},
   "source": [
    "***\n",
    "## 6. PyGenomeTracks - make tracks file\n",
    "> Making tracks file is necessary to create the plot.\n",
    "\n",
    "> __HINT:__ Make sure to take the right .bed, .bw, and .ini files.\n",
    "If you change the name of BED file, you need to rewrite it in the .ini file.\n",
    "***"
   ]
  },
  {
   "cell_type": "markdown",
   "metadata": {},
   "source": [
    "### A) PyGenomeTrack using BED6:\n",
    "> __HINT: If necessary, save your INI file after this step.__"
   ]
  },
  {
   "cell_type": "markdown",
   "metadata": {},
   "source": [
    "#### PyGenomeTrack using BED6 and one BigWig file - made from BAM file containing both strains (plus and minus):"
   ]
  },
  {
   "cell_type": "code",
   "execution_count": null,
   "metadata": {},
   "outputs": [],
   "source": [
    "# PyGenomeTrack using BED6 and one BigWig file - made from BAM file containing both strains (plus and minus) \n",
    "!make_tracks_file --trackFiles file_bed6_sorted.bed bigwig_bed6.bw -o ini_file_BED6.ini"
   ]
  },
  {
   "cell_type": "markdown",
   "metadata": {},
   "source": [
    "#### PyGenomeTrack using BED6 and two BigWig files - made from BAM files containing only one strain (plus or minus)"
   ]
  },
  {
   "cell_type": "code",
   "execution_count": 17,
   "metadata": {},
   "outputs": [
    {
     "name": "stdout",
     "output_type": "stream",
     "text": [
      "Adding bed file: file_bed6_sorted.bed\r\n",
      "Adding bigwig file: bigwig_bed6.bw\r\n",
      "Adding bigwig file: bigwig_bed6_2.bw\r\n"
     ]
    }
   ],
   "source": [
    "# PyGenomeTrack using BED6 and two BigWig files - made from BAM files containing only one strain (plus or minus) \n",
    "!make_tracks_file --trackFiles file_bed6_sorted.bed bigwig_bed6.bw bigwig_bed6_2.bw -o ini_file_BED6_podwojny_bw.ini"
   ]
  },
  {
   "cell_type": "markdown",
   "metadata": {},
   "source": [
    "### B) PyGenomeTrack using BED12:"
   ]
  },
  {
   "cell_type": "markdown",
   "metadata": {},
   "source": [
    "#### PyGenomeTrack using BED12 and one BigWig file - made from BAM file containing both strains (plus and minus) "
   ]
  },
  {
   "cell_type": "code",
   "execution_count": null,
   "metadata": {},
   "outputs": [],
   "source": [
    "# PyGenomeTrack using BED12 and one BigWig file - made from BAM file containing both strains (plus and minus) \n",
    "!make_tracks_file --trackFiles file_bed12_sorted.bed bigwig_bed6.bw -o ini_file_BED12.ini"
   ]
  },
  {
   "cell_type": "markdown",
   "metadata": {},
   "source": [
    "#### PyGenomeTrack using BED12 and two BigWig files - made from BAM files containing only one strain (plus or minus)"
   ]
  },
  {
   "cell_type": "code",
   "execution_count": 14,
   "metadata": {},
   "outputs": [
    {
     "name": "stdout",
     "output_type": "stream",
     "text": [
      "Adding bed file: file_bed12_sorted.bed\r\n",
      "Adding bigwig file: bigwig_bed6.bw\r\n",
      "Adding bigwig file: bigwig_bed6_2.bw\r\n"
     ]
    }
   ],
   "source": [
    "# PyGenomeTrack using BED12 and two BigWig files - made from BAM files containing only one strain (plus or minus)\n",
    "!make_tracks_file --trackFiles file_bed12_sorted.bed bigwig_bed6.bw bigwig_bed6_2.bw -o ini_file_BED12_2bw.ini"
   ]
  },
  {
   "cell_type": "markdown",
   "metadata": {},
   "source": [
    "***\n",
    "## 7. PyGenomeTracks - make region plot\n",
    "\n",
    "> ##### Create region plot and save it as .png or .pdf\n",
    "    !pyGenomeTracks --tracks <ini_file.ini> --region I:1,800,000-1,820,000 --outFileName <png_file.png>\n",
    "    !pyGenomeTracks --tracks <ini_file.ini> --region I:1,800,000-1,820,000 --outFileName <pdf_file.pdf>\n",
    "***"
   ]
  },
  {
   "cell_type": "markdown",
   "metadata": {},
   "source": [
    "### A) The example region plot using BED6 format:\n",
    "> If you want to have different colors for genes, UTRs, etc., mark it in column 5 in the bed6 file.\n",
    "> To prepare plot with two BigWig files (for + and - strains), please add section od second BigWig in your INI file, like in th example."
   ]
  },
  {
   "cell_type": "code",
   "execution_count": 20,
   "metadata": {},
   "outputs": [
    {
     "name": "stdout",
     "output_type": "stream",
     "text": [
      "INFO:pygenometracks.tracksClass:time initializing track(s):\n",
      "INFO:pygenometracks.tracksClass:4.082926273345947\n",
      "DEBUG:pygenometracks.tracksClass:Figure size in cm is 40 x 11.0. Dpi is set to 72\n",
      "\n",
      "INFO:pygenometracks.tracksClass:plotting 1. [x-axis]\n",
      "/home/lidka/anaconda3/lib/python3.6/site-packages/matplotlib/cbook/__init__.py:424: MatplotlibDeprecationWarning: \n",
      "Passing one of 'on', 'true', 'off', 'false' as a boolean is deprecated; use an actual boolean (True/False) instead.\n",
      "  warn_deprecated(\"2.2\", \"Passing one of 'on', 'true', 'off', 'false' as a \"\n",
      "INFO:pygenometracks.tracksClass:plotting 2. [spacer]\n",
      "INFO:pygenometracks.tracksClass:plotting 3. [file_bed6_sorted]\n",
      "DEBUG:pygenometracks.tracks.GenomeTrack:ylim 1249.9999999999998,0\n",
      "INFO:pygenometracks.tracksClass:plotting 4. [bigwig_bed6]\n",
      "INFO:pygenometracks.tracksClass:plotting 5. [bigwig_bed6_2]\n"
     ]
    }
   ],
   "source": [
    "# Create the region plot\n",
    "!pyGenomeTracks --tracks ini_file_BED6_podwojny_bw.ini --region I:0,000-15,000 --outFileName bed6_twoBigWig_2.png\n",
    "# !pyGenomeTracks --tracks ini_file_BED6.ini --region I:1,000,000-1,050,000 --outFileName bed6_1.pdf"
   ]
  },
  {
   "cell_type": "code",
   "execution_count": 21,
   "metadata": {},
   "outputs": [
    {
     "data": {
      "image/png": "[encoded data removed]",
      "text/plain": [
       "<IPython.core.display.Image object>"
      ]
     },
     "execution_count": 21,
     "metadata": {},
     "output_type": "execute_result"
    }
   ],
   "source": [
    "# Look at the new plot\n",
    "from IPython.display import Image\n",
    "\n",
    "#The name of the new file (.png) with plot showing genomic location\n",
    "#\n",
    "# Just copy the name of new .png file\n",
    "\n",
    "png_bed6 = \"bed6_twoBigWig_2.png\"\n",
    "Image(png_bed6)"
   ]
  },
  {
   "cell_type": "markdown",
   "metadata": {},
   "source": [
    "### B) The example region plot using BED12 format:"
   ]
  },
  {
   "cell_type": "code",
   "execution_count": 22,
   "metadata": {},
   "outputs": [
    {
     "name": "stdout",
     "output_type": "stream",
     "text": [
      "INFO:pygenometracks.tracksClass:time initializing track(s):\n",
      "INFO:pygenometracks.tracksClass:1.6539146900177002\n",
      "DEBUG:pygenometracks.tracksClass:Figure size in cm is 40 x 13.0. Dpi is set to 72\n",
      "\n",
      "INFO:pygenometracks.tracksClass:plotting 1. [x-axis]\n",
      "/home/lidka/anaconda3/lib/python3.6/site-packages/matplotlib/cbook/__init__.py:424: MatplotlibDeprecationWarning: \n",
      "Passing one of 'on', 'true', 'off', 'false' as a boolean is deprecated; use an actual boolean (True/False) instead.\n",
      "  warn_deprecated(\"2.2\", \"Passing one of 'on', 'true', 'off', 'false' as a \"\n",
      "INFO:pygenometracks.tracksClass:plotting 2. [spacer]\n",
      "INFO:pygenometracks.tracksClass:plotting 3. [file_bed12_sorted]\n",
      "DEBUG:pygenometracks.tracks.GenomeTrack:ylim 560.0,0\n",
      "INFO:pygenometracks.tracksClass:plotting 4. [bigwig_bed6]\n",
      "INFO:pygenometracks.tracksClass:plotting 5. [bigwig_bed6_2]\n"
     ]
    }
   ],
   "source": [
    "# Create the region plot\n",
    "!pyGenomeTracks --tracks ini_file_BED12_2bw.ini --region I:0,000-15,000 --outFileName bed12_2bw_2.png\n",
    "# !pyGenomeTracks --tracks ini_file_BED12.ini --region I:1,000,000-1,050,000 --outFileName bed12_3.pdf"
   ]
  },
  {
   "cell_type": "code",
   "execution_count": 23,
   "metadata": {},
   "outputs": [
    {
     "data": {
      "image/png": "[encoded data removed]",
      "text/plain": [
       "<IPython.core.display.Image object>"
      ]
     },
     "execution_count": 23,
     "metadata": {},
     "output_type": "execute_result"
    }
   ],
   "source": [
    "# Look at the new plot\n",
    "from IPython.display import Image\n",
    "\n",
    "#The name of the new file (.png) with plot showing genomic location\n",
    "#\n",
    "# Just copy the name of new .png file\n",
    "\n",
    "png_file_name_bed12 = \"bed12_2bw_2.png\"\n",
    "Image(png_file_name_bed12)"
   ]
  },
  {
   "cell_type": "markdown",
   "metadata": {},
   "source": [
    "***\n",
    "#### ~ Have fun ~\n",
    "***"
   ]
  }
 ],
 "metadata": {
  "kernelspec": {
   "display_name": "Python 3",
   "language": "python",
   "name": "python3"
  },
  "language_info": {
   "codemirror_mode": {
    "name": "ipython",
    "version": 3
   },
   "file_extension": ".py",
   "mimetype": "text/x-python",
   "name": "python",
   "nbconvert_exporter": "python",
   "pygments_lexer": "ipython3",
   "version": "3.6.7"
  }
 },
 "nbformat": 4,
 "nbformat_minor": 2
}
